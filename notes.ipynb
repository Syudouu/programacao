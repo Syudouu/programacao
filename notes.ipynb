{
 "cells": [
  {
   "cell_type": "markdown",
   "metadata": {},
   "source": [
    "## Testes de programacao\n",
    "- Acesse meu [repositorio](https://github.com/Syudouu/programacao) \n"
   ]
  },
  {
   "cell_type": "markdown",
   "metadata": {},
   "source": [
    "### Variaveis"
   ]
  },
  {
   "cell_type": "code",
   "execution_count": 19,
   "metadata": {},
   "outputs": [
    {
     "name": "stdout",
     "output_type": "stream",
     "text": [
      "['messias', 'yasmim']\n",
      "['messias', 'yasmim', 'nahida']\n"
     ]
    }
   ],
   "source": [
    "# teste de variavel\n",
    "sona = ['messias', 'yasmim']\n",
    "print(sona)\n",
    "sona.append('nahida')\n",
    "print(sona)"
   ]
  },
  {
   "cell_type": "code",
   "execution_count": 20,
   "metadata": {},
   "outputs": [
    {
     "name": "stdout",
     "output_type": "stream",
     "text": [
      "['messias', 'yasmim', 'nahida', 'sona']\n"
     ]
    }
   ],
   "source": [
    "resposta = input('digite um nome:')\n",
    "sona.append(resposta)\n",
    "print(sona)"
   ]
  },
  {
   "cell_type": "code",
   "execution_count": 21,
   "metadata": {},
   "outputs": [
    {
     "name": "stdout",
     "output_type": "stream",
     "text": [
      "['messias', 'yasmim', 'nahida', 'sona', 'nahida', 'kusanali', 'yae']\n"
     ]
    }
   ],
   "source": [
    "for i in range(3):\n",
    "    resposta = input(f'digite um nome {i+1}:')\n",
    "    sona.append(resposta)\n",
    "\n",
    "print(sona)"
   ]
  },
  {
   "cell_type": "code",
   "execution_count": 22,
   "metadata": {},
   "outputs": [
    {
     "name": "stdout",
     "output_type": "stream",
     "text": [
      "nome 0: messias:\n",
      "nome 1: yasmim:\n",
      "nome 2: nahida:\n",
      "nome 3: sona:\n",
      "nome 4: nahida:\n",
      "nome 5: kusanali:\n",
      "nome 6: yae:\n"
     ]
    }
   ],
   "source": [
    "for i in range(len(sona)):\n",
    "    print(f'nome {i}: {sona[i]}:')\n"
   ]
  },
  {
   "cell_type": "code",
   "execution_count": 23,
   "metadata": {},
   "outputs": [
    {
     "name": "stdout",
     "output_type": "stream",
     "text": [
      "['messias', 'yasmim', 'nahida']\n"
     ]
    }
   ],
   "source": [
    "print(sona[:3])"
   ]
  },
  {
   "cell_type": "markdown",
   "metadata": {},
   "source": [
    "### for com range"
   ]
  },
  {
   "cell_type": "code",
   "execution_count": 24,
   "metadata": {},
   "outputs": [
    {
     "name": "stdout",
     "output_type": "stream",
     "text": [
      "1 - 3 - 5 - 7 - 9 - 11 - 13 - 15 - 17 - 19 - 21 - 23 - 25 - 27 - 29 - 31 - 33 - 35 - 37 - 39 - 41 - 43 - 45 - 47 - 49 - 51 - 53 - 55 - 57 - 59"
     ]
    }
   ],
   "source": [
    "resposta = int(input('digite um numero:'))\n",
    "\n",
    "for i in range(1,resposta-1,2):\n",
    "    print(i, end=' - ')\n",
    "\n",
    "print(resposta-1, end='')   "
   ]
  },
  {
   "cell_type": "markdown",
   "metadata": {},
   "source": [
    "### Tabuada\n"
   ]
  },
  {
   "cell_type": "code",
   "execution_count": 36,
   "metadata": {},
   "outputs": [
    {
     "name": "stdout",
     "output_type": "stream",
     "text": [
      "7 x 1 = 7\n",
      "7 x 2 = 14\n",
      "7 x 3 = 21\n",
      "7 x 4 = 28\n",
      "7 x 5 = 35\n",
      "7 x 6 = 42\n",
      "7 x 7 = 49\n",
      "7 x 8 = 56\n",
      "7 x 9 = 63\n",
      "7 x 10 = 70\n"
     ]
    }
   ],
   "source": [
    "resposta = int(input('digite um numero para a tabuada:'))\n",
    "\n",
    "if resposta >= 1 and resposta <= 10: \n",
    "    for i in range(1,11):\n",
    "        print(str(resposta) + ' x ' + str(i) + ' = ' + str(resposta * i))\n",
    "else:\n",
    "    print('resposta errada')\n"
   ]
  }
 ],
 "metadata": {
  "kernelspec": {
   "display_name": "myenv",
   "language": "python",
   "name": "python3"
  },
  "language_info": {
   "codemirror_mode": {
    "name": "ipython",
    "version": 3
   },
   "file_extension": ".py",
   "mimetype": "text/x-python",
   "name": "python",
   "nbconvert_exporter": "python",
   "pygments_lexer": "ipython3",
   "version": "3.11.5"
  },
  "orig_nbformat": 4
 },
 "nbformat": 4,
 "nbformat_minor": 2
}
