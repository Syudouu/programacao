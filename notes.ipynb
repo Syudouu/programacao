{
 "cells": [
  {
   "cell_type": "markdown",
   "metadata": {},
   "source": [
    "### Anotações uteis\n",
    "- Acesse meu [repositorio](https://github.com/Syudouu/programacao) \n",
    "\n",
    "- [musicaXD](https://youtu.be/uAOR6ib95kQ?feature=shared)"
   ]
  },
  {
   "cell_type": "code",
   "execution_count": 20,
   "metadata": {},
   "outputs": [
    {
     "name": "stdout",
     "output_type": "stream",
     "text": [
      "['messias', 'yasmim']\n",
      "['messias', 'yasmim', 'nahida']\n"
     ]
    }
   ],
   "source": [
    "# teste de variavel\n",
    "sona = ['messias', 'yasmim']\n",
    "print(sona)\n",
    "sona.append('nahida')\n",
    "print(sona)"
   ]
  },
  {
   "cell_type": "code",
   "execution_count": 21,
   "metadata": {},
   "outputs": [
    {
     "name": "stdout",
     "output_type": "stream",
     "text": [
      "['messias', 'yasmim', 'nahida', 'seraphine']\n"
     ]
    }
   ],
   "source": [
    "resposta = input('digite um nome:')\n",
    "sona.append(resposta)\n",
    "print(sona)"
   ]
  },
  {
   "cell_type": "code",
   "execution_count": 23,
   "metadata": {},
   "outputs": [
    {
     "name": "stdout",
     "output_type": "stream",
     "text": [
      "['messias', 'yasmim', 'nahida', 'seraphine', 'master yi', 'kusanali', 'jean']\n"
     ]
    }
   ],
   "source": [
    "for i in range(3):\n",
    "    resposta = input(f'digite um nome {i+1}:')\n",
    "    sona.append(resposta)\n",
    "\n",
    "print(sona)"
   ]
  },
  {
   "cell_type": "code",
   "execution_count": 28,
   "metadata": {},
   "outputs": [
    {
     "name": "stdout",
     "output_type": "stream",
     "text": [
      "nome 0: messias:\n",
      "nome 1: yasmim:\n",
      "nome 2: nahida:\n",
      "nome 3: seraphine:\n",
      "nome 4: master yi:\n",
      "nome 5: kusanali:\n",
      "nome 6: jean:\n"
     ]
    }
   ],
   "source": [
    "for i in range(len(sona)):\n",
    "    print(f'nome {i}: {sona[i]}:')\n"
   ]
  },
  {
   "cell_type": "code",
   "execution_count": 38,
   "metadata": {},
   "outputs": [
    {
     "name": "stdout",
     "output_type": "stream",
     "text": [
      "['messias', 'yasmim', 'nahida']\n"
     ]
    }
   ],
   "source": [
    "print(sona[:3])"
   ]
  }
 ],
 "metadata": {
  "kernelspec": {
   "display_name": "myenv",
   "language": "python",
   "name": "python3"
  },
  "language_info": {
   "codemirror_mode": {
    "name": "ipython",
    "version": 3
   },
   "file_extension": ".py",
   "mimetype": "text/x-python",
   "name": "python",
   "nbconvert_exporter": "python",
   "pygments_lexer": "ipython3",
   "version": "3.11.5"
  },
  "orig_nbformat": 4
 },
 "nbformat": 4,
 "nbformat_minor": 2
}
